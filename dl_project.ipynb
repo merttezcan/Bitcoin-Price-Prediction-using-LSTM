{
  "nbformat": 4,
  "nbformat_minor": 0,
  "metadata": {
    "colab": {
      "provenance": [],
      "authorship_tag": "ABX9TyM7HNmm91ulYRAAEykS0yoz",
      "include_colab_link": true
    },
    "kernelspec": {
      "name": "python3",
      "display_name": "Python 3"
    },
    "language_info": {
      "name": "python"
    },
    "accelerator": "GPU"
  },
  "cells": [
    {
      "cell_type": "markdown",
      "metadata": {
        "id": "view-in-github",
        "colab_type": "text"
      },
      "source": [
        "<a href=\"https://colab.research.google.com/github/merttezcan/Bitcoin-Price-Prediction-using-LSTM/blob/main/dl_project.ipynb\" target=\"_parent\"><img src=\"https://colab.research.google.com/assets/colab-badge.svg\" alt=\"Open In Colab\"/></a>"
      ]
    },
    {
      "cell_type": "code",
      "execution_count": 12,
      "metadata": {
        "id": "3zH83YmzkCL-"
      },
      "outputs": [],
      "source": [
        "#importing libraries\n",
        "\n",
        "import numpy as np\n",
        "import matplotlib.pyplot as plt\n",
        "import pandas as pd\n",
        "from sklearn.preprocessing import MinMaxScaler\n",
        "from keras import Sequential\n",
        "from keras.layers import Dense, LSTM, Dropout"
      ]
    },
    {
      "cell_type": "code",
      "source": [
        "#getting the data\n",
        "\n",
        "data = pd.read_csv('BTC-USD-5-years.csv', date_parser = True)\n",
        "data.tail()"
      ],
      "metadata": {
        "colab": {
          "base_uri": "https://localhost:8080/",
          "height": 206
        },
        "id": "Vz_kEQfkkPXo",
        "outputId": "25910f75-2900-4bc9-cd29-247c8e64735e"
      },
      "execution_count": 13,
      "outputs": [
        {
          "output_type": "execute_result",
          "data": {
            "text/plain": [
              "            Date          Open          High           Low         Close  \\\n",
              "1822  2022-09-29  19427.779297  19589.265625  18924.353516  19573.050781   \n",
              "1823  2022-09-30  19573.431641  20109.849609  19265.662109  19431.789063   \n",
              "1824  2022-10-01  19431.105469  19471.154297  19231.082031  19312.095703   \n",
              "1825  2022-10-02  19311.849609  19370.308594  18970.621094  19044.107422   \n",
              "1826  2022-10-03  19039.136719  19421.876953  19039.136719  19413.570313   \n",
              "\n",
              "         Adj Close       Volume  \n",
              "1822  19573.050781  41037843771  \n",
              "1823  19431.789063  43975248085  \n",
              "1824  19312.095703  18719537670  \n",
              "1825  19044.107422  20765955327  \n",
              "1826  19413.570313  27688695808  "
            ],
            "text/html": [
              "\n",
              "  <div id=\"df-46f8f97d-144c-442d-8d51-d174b4c331c9\">\n",
              "    <div class=\"colab-df-container\">\n",
              "      <div>\n",
              "<style scoped>\n",
              "    .dataframe tbody tr th:only-of-type {\n",
              "        vertical-align: middle;\n",
              "    }\n",
              "\n",
              "    .dataframe tbody tr th {\n",
              "        vertical-align: top;\n",
              "    }\n",
              "\n",
              "    .dataframe thead th {\n",
              "        text-align: right;\n",
              "    }\n",
              "</style>\n",
              "<table border=\"1\" class=\"dataframe\">\n",
              "  <thead>\n",
              "    <tr style=\"text-align: right;\">\n",
              "      <th></th>\n",
              "      <th>Date</th>\n",
              "      <th>Open</th>\n",
              "      <th>High</th>\n",
              "      <th>Low</th>\n",
              "      <th>Close</th>\n",
              "      <th>Adj Close</th>\n",
              "      <th>Volume</th>\n",
              "    </tr>\n",
              "  </thead>\n",
              "  <tbody>\n",
              "    <tr>\n",
              "      <th>1822</th>\n",
              "      <td>2022-09-29</td>\n",
              "      <td>19427.779297</td>\n",
              "      <td>19589.265625</td>\n",
              "      <td>18924.353516</td>\n",
              "      <td>19573.050781</td>\n",
              "      <td>19573.050781</td>\n",
              "      <td>41037843771</td>\n",
              "    </tr>\n",
              "    <tr>\n",
              "      <th>1823</th>\n",
              "      <td>2022-09-30</td>\n",
              "      <td>19573.431641</td>\n",
              "      <td>20109.849609</td>\n",
              "      <td>19265.662109</td>\n",
              "      <td>19431.789063</td>\n",
              "      <td>19431.789063</td>\n",
              "      <td>43975248085</td>\n",
              "    </tr>\n",
              "    <tr>\n",
              "      <th>1824</th>\n",
              "      <td>2022-10-01</td>\n",
              "      <td>19431.105469</td>\n",
              "      <td>19471.154297</td>\n",
              "      <td>19231.082031</td>\n",
              "      <td>19312.095703</td>\n",
              "      <td>19312.095703</td>\n",
              "      <td>18719537670</td>\n",
              "    </tr>\n",
              "    <tr>\n",
              "      <th>1825</th>\n",
              "      <td>2022-10-02</td>\n",
              "      <td>19311.849609</td>\n",
              "      <td>19370.308594</td>\n",
              "      <td>18970.621094</td>\n",
              "      <td>19044.107422</td>\n",
              "      <td>19044.107422</td>\n",
              "      <td>20765955327</td>\n",
              "    </tr>\n",
              "    <tr>\n",
              "      <th>1826</th>\n",
              "      <td>2022-10-03</td>\n",
              "      <td>19039.136719</td>\n",
              "      <td>19421.876953</td>\n",
              "      <td>19039.136719</td>\n",
              "      <td>19413.570313</td>\n",
              "      <td>19413.570313</td>\n",
              "      <td>27688695808</td>\n",
              "    </tr>\n",
              "  </tbody>\n",
              "</table>\n",
              "</div>\n",
              "      <button class=\"colab-df-convert\" onclick=\"convertToInteractive('df-46f8f97d-144c-442d-8d51-d174b4c331c9')\"\n",
              "              title=\"Convert this dataframe to an interactive table.\"\n",
              "              style=\"display:none;\">\n",
              "        \n",
              "  <svg xmlns=\"http://www.w3.org/2000/svg\" height=\"24px\"viewBox=\"0 0 24 24\"\n",
              "       width=\"24px\">\n",
              "    <path d=\"M0 0h24v24H0V0z\" fill=\"none\"/>\n",
              "    <path d=\"M18.56 5.44l.94 2.06.94-2.06 2.06-.94-2.06-.94-.94-2.06-.94 2.06-2.06.94zm-11 1L8.5 8.5l.94-2.06 2.06-.94-2.06-.94L8.5 2.5l-.94 2.06-2.06.94zm10 10l.94 2.06.94-2.06 2.06-.94-2.06-.94-.94-2.06-.94 2.06-2.06.94z\"/><path d=\"M17.41 7.96l-1.37-1.37c-.4-.4-.92-.59-1.43-.59-.52 0-1.04.2-1.43.59L10.3 9.45l-7.72 7.72c-.78.78-.78 2.05 0 2.83L4 21.41c.39.39.9.59 1.41.59.51 0 1.02-.2 1.41-.59l7.78-7.78 2.81-2.81c.8-.78.8-2.07 0-2.86zM5.41 20L4 18.59l7.72-7.72 1.47 1.35L5.41 20z\"/>\n",
              "  </svg>\n",
              "      </button>\n",
              "      \n",
              "  <style>\n",
              "    .colab-df-container {\n",
              "      display:flex;\n",
              "      flex-wrap:wrap;\n",
              "      gap: 12px;\n",
              "    }\n",
              "\n",
              "    .colab-df-convert {\n",
              "      background-color: #E8F0FE;\n",
              "      border: none;\n",
              "      border-radius: 50%;\n",
              "      cursor: pointer;\n",
              "      display: none;\n",
              "      fill: #1967D2;\n",
              "      height: 32px;\n",
              "      padding: 0 0 0 0;\n",
              "      width: 32px;\n",
              "    }\n",
              "\n",
              "    .colab-df-convert:hover {\n",
              "      background-color: #E2EBFA;\n",
              "      box-shadow: 0px 1px 2px rgba(60, 64, 67, 0.3), 0px 1px 3px 1px rgba(60, 64, 67, 0.15);\n",
              "      fill: #174EA6;\n",
              "    }\n",
              "\n",
              "    [theme=dark] .colab-df-convert {\n",
              "      background-color: #3B4455;\n",
              "      fill: #D2E3FC;\n",
              "    }\n",
              "\n",
              "    [theme=dark] .colab-df-convert:hover {\n",
              "      background-color: #434B5C;\n",
              "      box-shadow: 0px 1px 3px 1px rgba(0, 0, 0, 0.15);\n",
              "      filter: drop-shadow(0px 1px 2px rgba(0, 0, 0, 0.3));\n",
              "      fill: #FFFFFF;\n",
              "    }\n",
              "  </style>\n",
              "\n",
              "      <script>\n",
              "        const buttonEl =\n",
              "          document.querySelector('#df-46f8f97d-144c-442d-8d51-d174b4c331c9 button.colab-df-convert');\n",
              "        buttonEl.style.display =\n",
              "          google.colab.kernel.accessAllowed ? 'block' : 'none';\n",
              "\n",
              "        async function convertToInteractive(key) {\n",
              "          const element = document.querySelector('#df-46f8f97d-144c-442d-8d51-d174b4c331c9');\n",
              "          const dataTable =\n",
              "            await google.colab.kernel.invokeFunction('convertToInteractive',\n",
              "                                                     [key], {});\n",
              "          if (!dataTable) return;\n",
              "\n",
              "          const docLinkHtml = 'Like what you see? Visit the ' +\n",
              "            '<a target=\"_blank\" href=https://colab.research.google.com/notebooks/data_table.ipynb>data table notebook</a>'\n",
              "            + ' to learn more about interactive tables.';\n",
              "          element.innerHTML = '';\n",
              "          dataTable['output_type'] = 'display_data';\n",
              "          await google.colab.output.renderOutput(dataTable, element);\n",
              "          const docLink = document.createElement('div');\n",
              "          docLink.innerHTML = docLinkHtml;\n",
              "          element.appendChild(docLink);\n",
              "        }\n",
              "      </script>\n",
              "    </div>\n",
              "  </div>\n",
              "  "
            ]
          },
          "metadata": {},
          "execution_count": 13
        }
      ]
    },
    {
      "cell_type": "code",
      "source": [
        "#splitting the data into training and test sets\n",
        "\n",
        "raw_training_data = data[data['Date']< '2020-01-01'].copy()\n",
        "raw_test_data = data[data['Date']> '2020-01-01'].copy()\n",
        "\n",
        "training_data = raw_training_data.drop(['Date', 'Adj Close'], axis = 1)\n",
        "training_data.head()"
      ],
      "metadata": {
        "colab": {
          "base_uri": "https://localhost:8080/",
          "height": 206
        },
        "id": "-PqDokHZkk9_",
        "outputId": "195e1997-f61f-4b90-fbb3-be36bee5b3a3"
      },
      "execution_count": 14,
      "outputs": [
        {
          "output_type": "execute_result",
          "data": {
            "text/plain": [
              "          Open         High          Low        Close      Volume\n",
              "0  4408.459961  4432.470215  4258.890137  4317.479980  1288019968\n",
              "1  4319.370117  4352.310059  4210.419922  4229.359863  1116770048\n",
              "2  4229.879883  4362.640137  4164.049805  4328.410156  1161769984\n",
              "3  4324.459961  4413.270020  4320.529785  4370.810059  1069939968\n",
              "4  4369.350098  4443.879883  4321.049805  4426.890137   906928000"
            ],
            "text/html": [
              "\n",
              "  <div id=\"df-2c58520b-e815-4aa6-bf4d-626d925827e1\">\n",
              "    <div class=\"colab-df-container\">\n",
              "      <div>\n",
              "<style scoped>\n",
              "    .dataframe tbody tr th:only-of-type {\n",
              "        vertical-align: middle;\n",
              "    }\n",
              "\n",
              "    .dataframe tbody tr th {\n",
              "        vertical-align: top;\n",
              "    }\n",
              "\n",
              "    .dataframe thead th {\n",
              "        text-align: right;\n",
              "    }\n",
              "</style>\n",
              "<table border=\"1\" class=\"dataframe\">\n",
              "  <thead>\n",
              "    <tr style=\"text-align: right;\">\n",
              "      <th></th>\n",
              "      <th>Open</th>\n",
              "      <th>High</th>\n",
              "      <th>Low</th>\n",
              "      <th>Close</th>\n",
              "      <th>Volume</th>\n",
              "    </tr>\n",
              "  </thead>\n",
              "  <tbody>\n",
              "    <tr>\n",
              "      <th>0</th>\n",
              "      <td>4408.459961</td>\n",
              "      <td>4432.470215</td>\n",
              "      <td>4258.890137</td>\n",
              "      <td>4317.479980</td>\n",
              "      <td>1288019968</td>\n",
              "    </tr>\n",
              "    <tr>\n",
              "      <th>1</th>\n",
              "      <td>4319.370117</td>\n",
              "      <td>4352.310059</td>\n",
              "      <td>4210.419922</td>\n",
              "      <td>4229.359863</td>\n",
              "      <td>1116770048</td>\n",
              "    </tr>\n",
              "    <tr>\n",
              "      <th>2</th>\n",
              "      <td>4229.879883</td>\n",
              "      <td>4362.640137</td>\n",
              "      <td>4164.049805</td>\n",
              "      <td>4328.410156</td>\n",
              "      <td>1161769984</td>\n",
              "    </tr>\n",
              "    <tr>\n",
              "      <th>3</th>\n",
              "      <td>4324.459961</td>\n",
              "      <td>4413.270020</td>\n",
              "      <td>4320.529785</td>\n",
              "      <td>4370.810059</td>\n",
              "      <td>1069939968</td>\n",
              "    </tr>\n",
              "    <tr>\n",
              "      <th>4</th>\n",
              "      <td>4369.350098</td>\n",
              "      <td>4443.879883</td>\n",
              "      <td>4321.049805</td>\n",
              "      <td>4426.890137</td>\n",
              "      <td>906928000</td>\n",
              "    </tr>\n",
              "  </tbody>\n",
              "</table>\n",
              "</div>\n",
              "      <button class=\"colab-df-convert\" onclick=\"convertToInteractive('df-2c58520b-e815-4aa6-bf4d-626d925827e1')\"\n",
              "              title=\"Convert this dataframe to an interactive table.\"\n",
              "              style=\"display:none;\">\n",
              "        \n",
              "  <svg xmlns=\"http://www.w3.org/2000/svg\" height=\"24px\"viewBox=\"0 0 24 24\"\n",
              "       width=\"24px\">\n",
              "    <path d=\"M0 0h24v24H0V0z\" fill=\"none\"/>\n",
              "    <path d=\"M18.56 5.44l.94 2.06.94-2.06 2.06-.94-2.06-.94-.94-2.06-.94 2.06-2.06.94zm-11 1L8.5 8.5l.94-2.06 2.06-.94-2.06-.94L8.5 2.5l-.94 2.06-2.06.94zm10 10l.94 2.06.94-2.06 2.06-.94-2.06-.94-.94-2.06-.94 2.06-2.06.94z\"/><path d=\"M17.41 7.96l-1.37-1.37c-.4-.4-.92-.59-1.43-.59-.52 0-1.04.2-1.43.59L10.3 9.45l-7.72 7.72c-.78.78-.78 2.05 0 2.83L4 21.41c.39.39.9.59 1.41.59.51 0 1.02-.2 1.41-.59l7.78-7.78 2.81-2.81c.8-.78.8-2.07 0-2.86zM5.41 20L4 18.59l7.72-7.72 1.47 1.35L5.41 20z\"/>\n",
              "  </svg>\n",
              "      </button>\n",
              "      \n",
              "  <style>\n",
              "    .colab-df-container {\n",
              "      display:flex;\n",
              "      flex-wrap:wrap;\n",
              "      gap: 12px;\n",
              "    }\n",
              "\n",
              "    .colab-df-convert {\n",
              "      background-color: #E8F0FE;\n",
              "      border: none;\n",
              "      border-radius: 50%;\n",
              "      cursor: pointer;\n",
              "      display: none;\n",
              "      fill: #1967D2;\n",
              "      height: 32px;\n",
              "      padding: 0 0 0 0;\n",
              "      width: 32px;\n",
              "    }\n",
              "\n",
              "    .colab-df-convert:hover {\n",
              "      background-color: #E2EBFA;\n",
              "      box-shadow: 0px 1px 2px rgba(60, 64, 67, 0.3), 0px 1px 3px 1px rgba(60, 64, 67, 0.15);\n",
              "      fill: #174EA6;\n",
              "    }\n",
              "\n",
              "    [theme=dark] .colab-df-convert {\n",
              "      background-color: #3B4455;\n",
              "      fill: #D2E3FC;\n",
              "    }\n",
              "\n",
              "    [theme=dark] .colab-df-convert:hover {\n",
              "      background-color: #434B5C;\n",
              "      box-shadow: 0px 1px 3px 1px rgba(0, 0, 0, 0.15);\n",
              "      filter: drop-shadow(0px 1px 2px rgba(0, 0, 0, 0.3));\n",
              "      fill: #FFFFFF;\n",
              "    }\n",
              "  </style>\n",
              "\n",
              "      <script>\n",
              "        const buttonEl =\n",
              "          document.querySelector('#df-2c58520b-e815-4aa6-bf4d-626d925827e1 button.colab-df-convert');\n",
              "        buttonEl.style.display =\n",
              "          google.colab.kernel.accessAllowed ? 'block' : 'none';\n",
              "\n",
              "        async function convertToInteractive(key) {\n",
              "          const element = document.querySelector('#df-2c58520b-e815-4aa6-bf4d-626d925827e1');\n",
              "          const dataTable =\n",
              "            await google.colab.kernel.invokeFunction('convertToInteractive',\n",
              "                                                     [key], {});\n",
              "          if (!dataTable) return;\n",
              "\n",
              "          const docLinkHtml = 'Like what you see? Visit the ' +\n",
              "            '<a target=\"_blank\" href=https://colab.research.google.com/notebooks/data_table.ipynb>data table notebook</a>'\n",
              "            + ' to learn more about interactive tables.';\n",
              "          element.innerHTML = '';\n",
              "          dataTable['output_type'] = 'display_data';\n",
              "          await google.colab.output.renderOutput(dataTable, element);\n",
              "          const docLink = document.createElement('div');\n",
              "          docLink.innerHTML = docLinkHtml;\n",
              "          element.appendChild(docLink);\n",
              "        }\n",
              "      </script>\n",
              "    </div>\n",
              "  </div>\n",
              "  "
            ]
          },
          "metadata": {},
          "execution_count": 14
        }
      ]
    },
    {
      "cell_type": "code",
      "source": [
        "#applying minmax scaler, it preserves the shape, so we can unscale it at the end and check the prices\n",
        "\n",
        "scaler = MinMaxScaler()\n",
        "training_data = scaler.fit_transform(training_data)\n",
        "training_data"
      ],
      "metadata": {
        "colab": {
          "base_uri": "https://localhost:8080/"
        },
        "id": "DOZtt4w_mMHX",
        "outputId": "8df5ee3f-1fa4-4b04-d263-cccfb27bb5aa"
      },
      "execution_count": 15,
      "outputs": [
        {
          "output_type": "execute_result",
          "data": {
            "text/plain": [
              "array([[0.072181  , 0.06881874, 0.06764243, 0.06646223, 0.00862222],\n",
              "       [0.06669502, 0.06405117, 0.06457135, 0.061043  , 0.00474769],\n",
              "       [0.06118437, 0.06466556, 0.06163333, 0.06713441, 0.00576581],\n",
              "       ...,\n",
              "       [0.25132339, 0.25209145, 0.2590518 , 0.25742477, 0.4873057 ],\n",
              "       [0.25764288, 0.24857501, 0.25882642, 0.24945105, 0.49700899],\n",
              "       [0.24989426, 0.24146565, 0.25207665, 0.24333838, 0.45840647]])"
            ]
          },
          "metadata": {},
          "execution_count": 15
        }
      ]
    },
    {
      "cell_type": "code",
      "source": [
        "#creating X_train and Y_train\n",
        "\n",
        "X_train = [] \n",
        "Y_train = []"
      ],
      "metadata": {
        "id": "X-qLiSlemRdG"
      },
      "execution_count": 16,
      "outputs": []
    },
    {
      "cell_type": "code",
      "source": [
        "#checking the shape of the training data\n",
        "\n",
        "training_data.shape[0]"
      ],
      "metadata": {
        "colab": {
          "base_uri": "https://localhost:8080/"
        },
        "id": "HkmKORm-mS82",
        "outputId": "73bc3f31-bd78-4dad-d130-5a3e67b885c0"
      },
      "execution_count": 17,
      "outputs": [
        {
          "output_type": "execute_result",
          "data": {
            "text/plain": [
              "820"
            ]
          },
          "metadata": {},
          "execution_count": 17
        }
      ]
    },
    {
      "cell_type": "code",
      "source": [
        "#generating sequences for LSTM\n",
        "\n",
        "for i in range(100, training_data.shape[0]):\n",
        "  X_train.append(training_data[i-100:i])\n",
        "  Y_train.append(training_data[i,0])\n",
        "X_train, Y_train = np.array(X_train), np.array(Y_train)\n",
        "X_train.shape"
      ],
      "metadata": {
        "colab": {
          "base_uri": "https://localhost:8080/"
        },
        "id": "5PnAitqimT82",
        "outputId": "eca294f3-db62-49a2-8d57-e741210f0feb"
      },
      "execution_count": 18,
      "outputs": [
        {
          "output_type": "execute_result",
          "data": {
            "text/plain": [
              "(720, 100, 5)"
            ]
          },
          "metadata": {},
          "execution_count": 18
        }
      ]
    },
    {
      "cell_type": "code",
      "source": [
        "#creating the LSTM model with one dropout and one dense layer\n",
        "\n",
        "model = Sequential()\n",
        "model.add(LSTM(units = 100, activation = 'relu', input_shape = (X_train.shape[1], 5)))\n",
        "model.add(Dropout(0.5))\n",
        "model.add(Dense(units = 1))\n",
        "\n",
        "model.summary()\n"
      ],
      "metadata": {
        "colab": {
          "base_uri": "https://localhost:8080/"
        },
        "id": "_p1QP9X5mfAW",
        "outputId": "da3d8a73-17f5-478b-b271-535befa55274"
      },
      "execution_count": 19,
      "outputs": [
        {
          "output_type": "stream",
          "name": "stderr",
          "text": [
            "WARNING:tensorflow:Layer lstm_1 will not use cuDNN kernels since it doesn't meet the criteria. It will use a generic GPU kernel as fallback when running on GPU.\n"
          ]
        },
        {
          "output_type": "stream",
          "name": "stdout",
          "text": [
            "Model: \"sequential_1\"\n",
            "_________________________________________________________________\n",
            " Layer (type)                Output Shape              Param #   \n",
            "=================================================================\n",
            " lstm_1 (LSTM)               (None, 100)               42400     \n",
            "                                                                 \n",
            " dropout_1 (Dropout)         (None, 100)               0         \n",
            "                                                                 \n",
            " dense_1 (Dense)             (None, 1)                 101       \n",
            "                                                                 \n",
            "=================================================================\n",
            "Total params: 42,501\n",
            "Trainable params: 42,501\n",
            "Non-trainable params: 0\n",
            "_________________________________________________________________\n"
          ]
        }
      ]
    },
    {
      "cell_type": "code",
      "source": [
        "#training\n",
        "\n",
        "model.compile(optimizer = 'adam', loss = 'mean_squared_error')\n",
        "history = model.fit(X_train, Y_train, epochs = 20, batch_size = 50, validation_split = 0.1)"
      ],
      "metadata": {
        "colab": {
          "base_uri": "https://localhost:8080/"
        },
        "id": "CSOAYUJunMiP",
        "outputId": "a03c33c4-4b67-415d-938b-4eefb9112c25"
      },
      "execution_count": 20,
      "outputs": [
        {
          "output_type": "stream",
          "name": "stdout",
          "text": [
            "Epoch 1/20\n",
            "13/13 [==============================] - 4s 177ms/step - loss: 0.0302 - val_loss: 0.0108\n",
            "Epoch 2/20\n",
            "13/13 [==============================] - 2s 161ms/step - loss: 0.0090 - val_loss: 0.0017\n",
            "Epoch 3/20\n",
            "13/13 [==============================] - 2s 164ms/step - loss: 0.0055 - val_loss: 8.1497e-04\n",
            "Epoch 4/20\n",
            "13/13 [==============================] - 2s 161ms/step - loss: 0.0046 - val_loss: 8.7057e-04\n",
            "Epoch 5/20\n",
            "13/13 [==============================] - 2s 161ms/step - loss: 0.0039 - val_loss: 5.5212e-04\n",
            "Epoch 6/20\n",
            "13/13 [==============================] - 2s 161ms/step - loss: 0.0036 - val_loss: 4.4473e-04\n",
            "Epoch 7/20\n",
            "13/13 [==============================] - 2s 164ms/step - loss: 0.0042 - val_loss: 6.0661e-04\n",
            "Epoch 8/20\n",
            "13/13 [==============================] - 2s 155ms/step - loss: 0.0035 - val_loss: 0.0010\n",
            "Epoch 9/20\n",
            "13/13 [==============================] - 2s 160ms/step - loss: 0.0037 - val_loss: 7.4523e-04\n",
            "Epoch 10/20\n",
            "13/13 [==============================] - 2s 157ms/step - loss: 0.0036 - val_loss: 4.6036e-04\n",
            "Epoch 11/20\n",
            "13/13 [==============================] - 2s 162ms/step - loss: 0.0034 - val_loss: 5.1626e-04\n",
            "Epoch 12/20\n",
            "13/13 [==============================] - 2s 161ms/step - loss: 0.0033 - val_loss: 5.6700e-04\n",
            "Epoch 13/20\n",
            "13/13 [==============================] - 2s 160ms/step - loss: 0.0029 - val_loss: 4.8027e-04\n",
            "Epoch 14/20\n",
            "13/13 [==============================] - 2s 151ms/step - loss: 0.0029 - val_loss: 4.6213e-04\n",
            "Epoch 15/20\n",
            "13/13 [==============================] - 2s 154ms/step - loss: 0.0029 - val_loss: 8.1777e-04\n",
            "Epoch 16/20\n",
            "13/13 [==============================] - 2s 149ms/step - loss: 0.0029 - val_loss: 6.5685e-04\n",
            "Epoch 17/20\n",
            "13/13 [==============================] - 2s 153ms/step - loss: 0.0031 - val_loss: 5.1266e-04\n",
            "Epoch 18/20\n",
            "13/13 [==============================] - 2s 172ms/step - loss: 0.0026 - val_loss: 3.6384e-04\n",
            "Epoch 19/20\n",
            "13/13 [==============================] - 2s 179ms/step - loss: 0.0031 - val_loss: 4.0827e-04\n",
            "Epoch 20/20\n",
            "13/13 [==============================] - 2s 155ms/step - loss: 0.0026 - val_loss: 3.9598e-04\n"
          ]
        }
      ]
    },
    {
      "cell_type": "code",
      "source": [
        "#analysing the losses\n",
        "\n",
        "loss = history.history['loss']\n",
        "val_loss = history.history['val_loss']\n",
        "epochs = range(len(loss))\n",
        "plt.figure()\n",
        "plt.plot(epochs, loss, 'b', label='Training loss')\n",
        "plt.plot(epochs, val_loss, 'r', label='Validation loss')\n",
        "plt.title(\"Training and Validation Loss\")\n",
        "plt.legend()\n",
        "plt.show()"
      ],
      "metadata": {
        "colab": {
          "base_uri": "https://localhost:8080/",
          "height": 281
        },
        "id": "gHEBsYvAnP8X",
        "outputId": "03c1b466-155a-40a7-a3a9-54c71d013e12"
      },
      "execution_count": 21,
      "outputs": [
        {
          "output_type": "display_data",
          "data": {
            "text/plain": [
              "<Figure size 432x288 with 1 Axes>"
            ],
            "image/png": "[encoded data removed]"
          },
          "metadata": {
            "needs_background": "light"
          }
        }
      ]
    },
    {
      "cell_type": "code",
      "source": [
        "#creating a test dataset using the data of last 100 days\n",
        "\n",
        "seq_60_days = raw_training_data.tail(100)\n",
        "df= seq_60_days.append(raw_test_data, ignore_index = True)\n",
        "df = df.drop(['Date', 'Adj Close'], axis = 1)\n",
        "df"
      ],
      "metadata": {
        "colab": {
          "base_uri": "https://localhost:8080/",
          "height": 424
        },
        "id": "4GVenv8Mo43X",
        "outputId": "cb77151b-6761-4872-d0ba-bb9c0ae34806"
      },
      "execution_count": 22,
      "outputs": [
        {
          "output_type": "execute_result",
          "data": {
            "text/plain": [
              "              Open          High           Low         Close       Volume\n",
              "0     10067.962891  10074.238281   9727.143555   9729.324219  15144925408\n",
              "1      9729.321289   9804.317383   8370.801758   8620.566406  25002886689\n",
              "2      8603.428711   8744.828125   8325.396484   8486.993164  21744728353\n",
              "3      8487.669922   8515.685547   7895.629395   8118.967773  19258205289\n",
              "4      8113.101074   8271.520508   7965.922852   8251.845703  16408941156\n",
              "...            ...           ...           ...           ...          ...\n",
              "1101  19427.779297  19589.265625  18924.353516  19573.050781  41037843771\n",
              "1102  19573.431641  20109.849609  19265.662109  19431.789063  43975248085\n",
              "1103  19431.105469  19471.154297  19231.082031  19312.095703  18719537670\n",
              "1104  19311.849609  19370.308594  18970.621094  19044.107422  20765955327\n",
              "1105  19039.136719  19421.876953  19039.136719  19413.570313  27688695808\n",
              "\n",
              "[1106 rows x 5 columns]"
            ],
            "text/html": [
              "\n",
              "  <div id=\"df-ef463ac0-1098-4234-8e2d-deaaa6a7e418\">\n",
              "    <div class=\"colab-df-container\">\n",
              "      <div>\n",
              "<style scoped>\n",
              "    .dataframe tbody tr th:only-of-type {\n",
              "        vertical-align: middle;\n",
              "    }\n",
              "\n",
              "    .dataframe tbody tr th {\n",
              "        vertical-align: top;\n",
              "    }\n",
              "\n",
              "    .dataframe thead th {\n",
              "        text-align: right;\n",
              "    }\n",
              "</style>\n",
              "<table border=\"1\" class=\"dataframe\">\n",
              "  <thead>\n",
              "    <tr style=\"text-align: right;\">\n",
              "      <th></th>\n",
              "      <th>Open</th>\n",
              "      <th>High</th>\n",
              "      <th>Low</th>\n",
              "      <th>Close</th>\n",
              "      <th>Volume</th>\n",
              "    </tr>\n",
              "  </thead>\n",
              "  <tbody>\n",
              "    <tr>\n",
              "      <th>0</th>\n",
              "      <td>10067.962891</td>\n",
              "      <td>10074.238281</td>\n",
              "      <td>9727.143555</td>\n",
              "      <td>9729.324219</td>\n",
              "      <td>15144925408</td>\n",
              "    </tr>\n",
              "    <tr>\n",
              "      <th>1</th>\n",
              "      <td>9729.321289</td>\n",
              "      <td>9804.317383</td>\n",
              "      <td>8370.801758</td>\n",
              "      <td>8620.566406</td>\n",
              "      <td>25002886689</td>\n",
              "    </tr>\n",
              "    <tr>\n",
              "      <th>2</th>\n",
              "      <td>8603.428711</td>\n",
              "      <td>8744.828125</td>\n",
              "      <td>8325.396484</td>\n",
              "      <td>8486.993164</td>\n",
              "      <td>21744728353</td>\n",
              "    </tr>\n",
              "    <tr>\n",
              "      <th>3</th>\n",
              "      <td>8487.669922</td>\n",
              "      <td>8515.685547</td>\n",
              "      <td>7895.629395</td>\n",
              "      <td>8118.967773</td>\n",
              "      <td>19258205289</td>\n",
              "    </tr>\n",
              "    <tr>\n",
              "      <th>4</th>\n",
              "      <td>8113.101074</td>\n",
              "      <td>8271.520508</td>\n",
              "      <td>7965.922852</td>\n",
              "      <td>8251.845703</td>\n",
              "      <td>16408941156</td>\n",
              "    </tr>\n",
              "    <tr>\n",
              "      <th>...</th>\n",
              "      <td>...</td>\n",
              "      <td>...</td>\n",
              "      <td>...</td>\n",
              "      <td>...</td>\n",
              "      <td>...</td>\n",
              "    </tr>\n",
              "    <tr>\n",
              "      <th>1101</th>\n",
              "      <td>19427.779297</td>\n",
              "      <td>19589.265625</td>\n",
              "      <td>18924.353516</td>\n",
              "      <td>19573.050781</td>\n",
              "      <td>41037843771</td>\n",
              "    </tr>\n",
              "    <tr>\n",
              "      <th>1102</th>\n",
              "      <td>19573.431641</td>\n",
              "      <td>20109.849609</td>\n",
              "      <td>19265.662109</td>\n",
              "      <td>19431.789063</td>\n",
              "      <td>43975248085</td>\n",
              "    </tr>\n",
              "    <tr>\n",
              "      <th>1103</th>\n",
              "      <td>19431.105469</td>\n",
              "      <td>19471.154297</td>\n",
              "      <td>19231.082031</td>\n",
              "      <td>19312.095703</td>\n",
              "      <td>18719537670</td>\n",
              "    </tr>\n",
              "    <tr>\n",
              "      <th>1104</th>\n",
              "      <td>19311.849609</td>\n",
              "      <td>19370.308594</td>\n",
              "      <td>18970.621094</td>\n",
              "      <td>19044.107422</td>\n",
              "      <td>20765955327</td>\n",
              "    </tr>\n",
              "    <tr>\n",
              "      <th>1105</th>\n",
              "      <td>19039.136719</td>\n",
              "      <td>19421.876953</td>\n",
              "      <td>19039.136719</td>\n",
              "      <td>19413.570313</td>\n",
              "      <td>27688695808</td>\n",
              "    </tr>\n",
              "  </tbody>\n",
              "</table>\n",
              "<p>1106 rows × 5 columns</p>\n",
              "</div>\n",
              "      <button class=\"colab-df-convert\" onclick=\"convertToInteractive('df-ef463ac0-1098-4234-8e2d-deaaa6a7e418')\"\n",
              "              title=\"Convert this dataframe to an interactive table.\"\n",
              "              style=\"display:none;\">\n",
              "        \n",
              "  <svg xmlns=\"http://www.w3.org/2000/svg\" height=\"24px\"viewBox=\"0 0 24 24\"\n",
              "       width=\"24px\">\n",
              "    <path d=\"M0 0h24v24H0V0z\" fill=\"none\"/>\n",
              "    <path d=\"M18.56 5.44l.94 2.06.94-2.06 2.06-.94-2.06-.94-.94-2.06-.94 2.06-2.06.94zm-11 1L8.5 8.5l.94-2.06 2.06-.94-2.06-.94L8.5 2.5l-.94 2.06-2.06.94zm10 10l.94 2.06.94-2.06 2.06-.94-2.06-.94-.94-2.06-.94 2.06-2.06.94z\"/><path d=\"M17.41 7.96l-1.37-1.37c-.4-.4-.92-.59-1.43-.59-.52 0-1.04.2-1.43.59L10.3 9.45l-7.72 7.72c-.78.78-.78 2.05 0 2.83L4 21.41c.39.39.9.59 1.41.59.51 0 1.02-.2 1.41-.59l7.78-7.78 2.81-2.81c.8-.78.8-2.07 0-2.86zM5.41 20L4 18.59l7.72-7.72 1.47 1.35L5.41 20z\"/>\n",
              "  </svg>\n",
              "      </button>\n",
              "      \n",
              "  <style>\n",
              "    .colab-df-container {\n",
              "      display:flex;\n",
              "      flex-wrap:wrap;\n",
              "      gap: 12px;\n",
              "    }\n",
              "\n",
              "    .colab-df-convert {\n",
              "      background-color: #E8F0FE;\n",
              "      border: none;\n",
              "      border-radius: 50%;\n",
              "      cursor: pointer;\n",
              "      display: none;\n",
              "      fill: #1967D2;\n",
              "      height: 32px;\n",
              "      padding: 0 0 0 0;\n",
              "      width: 32px;\n",
              "    }\n",
              "\n",
              "    .colab-df-convert:hover {\n",
              "      background-color: #E2EBFA;\n",
              "      box-shadow: 0px 1px 2px rgba(60, 64, 67, 0.3), 0px 1px 3px 1px rgba(60, 64, 67, 0.15);\n",
              "      fill: #174EA6;\n",
              "    }\n",
              "\n",
              "    [theme=dark] .colab-df-convert {\n",
              "      background-color: #3B4455;\n",
              "      fill: #D2E3FC;\n",
              "    }\n",
              "\n",
              "    [theme=dark] .colab-df-convert:hover {\n",
              "      background-color: #434B5C;\n",
              "      box-shadow: 0px 1px 3px 1px rgba(0, 0, 0, 0.15);\n",
              "      filter: drop-shadow(0px 1px 2px rgba(0, 0, 0, 0.3));\n",
              "      fill: #FFFFFF;\n",
              "    }\n",
              "  </style>\n",
              "\n",
              "      <script>\n",
              "        const buttonEl =\n",
              "          document.querySelector('#df-ef463ac0-1098-4234-8e2d-deaaa6a7e418 button.colab-df-convert');\n",
              "        buttonEl.style.display =\n",
              "          google.colab.kernel.accessAllowed ? 'block' : 'none';\n",
              "\n",
              "        async function convertToInteractive(key) {\n",
              "          const element = document.querySelector('#df-ef463ac0-1098-4234-8e2d-deaaa6a7e418');\n",
              "          const dataTable =\n",
              "            await google.colab.kernel.invokeFunction('convertToInteractive',\n",
              "                                                     [key], {});\n",
              "          if (!dataTable) return;\n",
              "\n",
              "          const docLinkHtml = 'Like what you see? Visit the ' +\n",
              "            '<a target=\"_blank\" href=https://colab.research.google.com/notebooks/data_table.ipynb>data table notebook</a>'\n",
              "            + ' to learn more about interactive tables.';\n",
              "          element.innerHTML = '';\n",
              "          dataTable['output_type'] = 'display_data';\n",
              "          await google.colab.output.renderOutput(dataTable, element);\n",
              "          const docLink = document.createElement('div');\n",
              "          docLink.innerHTML = docLinkHtml;\n",
              "          element.appendChild(docLink);\n",
              "        }\n",
              "      </script>\n",
              "    </div>\n",
              "  </div>\n",
              "  "
            ]
          },
          "metadata": {},
          "execution_count": 22
        }
      ]
    },
    {
      "cell_type": "code",
      "source": [
        "#scaling the test dataset\n",
        "\n",
        "inputs = scaler.transform(df)\n",
        "inputs"
      ],
      "metadata": {
        "colab": {
          "base_uri": "https://localhost:8080/"
        },
        "id": "ReQrkgLepDIf",
        "outputId": "0b2988ce-a785-45d4-f48a-fdb99204ed2b"
      },
      "execution_count": 23,
      "outputs": [
        {
          "output_type": "execute_result",
          "data": {
            "text/plain": [
              "array([[0.42068273, 0.40436619, 0.41411167, 0.3992809 , 0.32213535],\n",
              "       [0.39982981, 0.38831249, 0.32817368, 0.33109429, 0.54517217],\n",
              "       [0.33049943, 0.32529875, 0.3252968 , 0.32287978, 0.47145619],\n",
              "       ...,\n",
              "       [0.99724775, 0.96325327, 1.01628244, 0.9886041 , 0.40301111],\n",
              "       [0.98990419, 0.95725541, 0.9997796 , 0.9721233 , 0.44931141],\n",
              "       [0.97311103, 0.96032247, 1.00412076, 0.9948446 , 0.60593873]])"
            ]
          },
          "metadata": {},
          "execution_count": 23
        }
      ]
    },
    {
      "cell_type": "code",
      "source": [
        "#generating sequences for test dataset\n",
        "\n",
        "X_test = []\n",
        "Y_test = []\n",
        "\n",
        "for i in range (100, inputs.shape[0]):\n",
        "  X_test.append(inputs[i-100:i])\n",
        "  Y_test.append(inputs[i, 0])\n",
        "X_test, Y_test = np.array(X_test), np.array(Y_test)\n",
        "X_test.shape, Y_test.shape\n",
        "Y_pred = model.predict(X_test)\n",
        "#Y_pred, Y_test"
      ],
      "metadata": {
        "id": "bIvJKpMNpIkH"
      },
      "execution_count": 24,
      "outputs": []
    },
    {
      "cell_type": "code",
      "source": [
        "scaler.scale_"
      ],
      "metadata": {
        "colab": {
          "base_uri": "https://localhost:8080/"
        },
        "id": "zlO1Y5J9pSiX",
        "outputId": "6112e25a-0888-4a1a-c719-1a8f4f8abe78"
      },
      "execution_count": 25,
      "outputs": [
        {
          "output_type": "execute_result",
          "data": {
            "text/plain": [
              "array([6.15781515e-05, 5.94755845e-05, 6.33601290e-05, 6.14981994e-05,\n",
              "       2.26250460e-11])"
            ]
          },
          "metadata": {},
          "execution_count": 25
        }
      ]
    },
    {
      "cell_type": "code",
      "source": [
        "scale = 1/5.18164146e-05"
      ],
      "metadata": {
        "id": "xwWzooEOqPv3"
      },
      "execution_count": 26,
      "outputs": []
    },
    {
      "cell_type": "code",
      "source": [
        "#unscaling to see the prices in correct way\n",
        "\n",
        "Y_test = Y_test*scale\n",
        "Y_pred = Y_pred*scale"
      ],
      "metadata": {
        "id": "3lL793qoqRM_"
      },
      "execution_count": 27,
      "outputs": []
    },
    {
      "cell_type": "code",
      "source": [
        "#Y_pred"
      ],
      "metadata": {
        "id": "QTm8zgLWqSTW"
      },
      "execution_count": 28,
      "outputs": []
    },
    {
      "cell_type": "code",
      "source": [
        "#Y_test"
      ],
      "metadata": {
        "id": "MqJNjTZ7qUrn"
      },
      "execution_count": 29,
      "outputs": []
    },
    {
      "cell_type": "code",
      "source": [
        "#final plot\n",
        "\n",
        "plt.figure(figsize=(14,5))\n",
        "plt.plot(Y_test, color = 'red', label = 'Real Bitcoin Price')\n",
        "plt.plot(Y_pred, color = 'green', label = 'Predicted Bitcoin Price')\n",
        "plt.title('Bitcoin Price Prediction using RNN-LSTM')\n",
        "plt.xlabel('Time')\n",
        "plt.ylabel('Price')\n",
        "plt.legend()\n",
        "plt.show()"
      ],
      "metadata": {
        "colab": {
          "base_uri": "https://localhost:8080/",
          "height": 350
        },
        "id": "aJi4HnvQqWm3",
        "outputId": "b872ba7f-d8bc-4e6a-cc2f-96d4cac6714f"
      },
      "execution_count": 30,
      "outputs": [
        {
          "output_type": "display_data",
          "data": {
            "text/plain": [
              "<Figure size 1008x360 with 1 Axes>"
            ],
            "image/png": "[encoded data removed]"
          },
          "metadata": {
            "needs_background": "light"
          }
        }
      ]
    }
  ]
}